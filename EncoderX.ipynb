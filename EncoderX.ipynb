{
  "nbformat": 4,
  "nbformat_minor": 0,
  "metadata": {
    "colab": {
      "provenance": [],
      "include_colab_link": true
    },
    "kernelspec": {
      "name": "python3",
      "display_name": "Python 3"
    },
    "language_info": {
      "name": "python"
    }
  },
  "cells": [
    {
      "cell_type": "markdown",
      "metadata": {
        "id": "open-in-colab"
      },
      "source": [
        "<a href=\"https://colab.research.google.com/\" target=\"_parent\"><img src=\"https://colab.research.google.com/assets/colab-badge.svg\" alt=\"Open In Colab\"/></a>"
      ]
    },
    {
      "cell_type": "code",
      "metadata": {
        "cellView": "form",
        "id": "setup-clone"
      },
      "source": [
        "import os, shutil, subprocess\nfrom IPython.display import clear_output\n\n#@title <h3>🔗 Repo settings</h3> { display-mode: \"form\" }\nGITHUB_URL = \"https://github.com/itskrishname/rulfPvtEnocoder1.git\"  #@param {type:\"string\"}\nPIP_INSTALL = \"requirements.txt\"  #@param {type:\"string\"}\nINSTALL_FFMPEG = \"No\"  #@param [\"Yes\", \"No\"]\n\nbase_dir = './repo'\nos.makedirs(base_dir, exist_ok=True)\n\ndef run(cmd, check=True):\n    print(cmd)\n    result = subprocess.run(cmd, shell=True)\n    if check and result.returncode != 0:\n        raise RuntimeError(f\"Command failed: {cmd}\")\n\ndef clone_fresh(repo_url, base_directory):\n    name = os.path.basename(repo_url).replace('.git','')\n    proj = os.path.join(base_directory, name)\n    if os.path.exists(proj):\n        print(f\"Deleting existing: {proj}\")\n        shutil.rmtree(proj)\n    print(f\"Cloning {repo_url} → {proj}\")\n    run(f\"git clone {repo_url} {proj}\")\n    return proj\n\nproject_dir = clone_fresh(GITHUB_URL, base_dir)\nprint(f\"Entering: {project_dir}\")\nos.chdir(project_dir)\n\nprint(\"Installing dependencies…\")\nif os.path.exists(PIP_INSTALL):\n    run(\"python -m pip install --upgrade pip\")\n    run(f\"pip install -r {PIP_INSTALL}\")\nelse:\n    print(f\"requirements file not found at: {PIP_INSTALL} (skipping)\")\n\nif INSTALL_FFMPEG == \"Yes\":\n    print(\"Installing ffmpeg…\")\n    run(\"apt-get update -qq && apt-get install -y -qq ffmpeg\", check=False)\nelse:\n    print(\"Skipping ffmpeg install.\")\n\nclear_output()\nprint(\"✓ Repo ready.\")"
      ],
      "execution_count": null,
      "outputs": []
    },
    {
      "cell_type": "code",
      "metadata": {
        "cellView": "form",
        "id": "env-and-run"
      },
      "source": [
        "#@title <h3>🔧 Environment & Run</h3> { display-mode: \"form\" }\n# Fill only the variables your project needs.\nimport os\nAPP_ID = \"\"  #@param {type:\"string\"}\nAPI_HASH = \"\"  #@param {type:\"string\"}\nTG_BOT_TOKEN = \"\"  #@param {type:\"string\"}\nLOG_CHANNEL = \"\"  #@param {type:\"string\"}\nAUTH_USERS = \"\"  #@param {type:\"string\"}\nBOT_USERNAME = \"\"  #@param {type:\"string\"}\nSESSION_NAME = \"\"  #@param {type:\"string\"}\nENV = \"\"  #@param {type:\"string\"}\n\nfor k,v in {\n    'APP_ID': APP_ID,\n    'API_HASH': API_HASH,\n    'TG_BOT_TOKEN': TG_BOT_TOKEN,\n    'LOG_CHANNEL': LOG_CHANNEL,\n    'AUTH_USERS': AUTH_USERS,\n    'BOT_USERNAME': BOT_USERNAME,\n    'SESSION_NAME': SESSION_NAME,\n    'ENV': ENV,\n}.items():\n    if v:\n        os.environ[k] = v\n\nRUN_COMMAND = \"python3 -m bot\"  #@param {type:\"string\"}\n\nprint(f\"Running: {RUN_COMMAND}\")\nret = os.system(RUN_COMMAND)\nprint(f\"Process exited with code: {ret}\")"
      ],
      "execution_count": null,
      "outputs": []
    },
    {
      "cell_type": "markdown",
      "metadata": {
        "id": "help-notes"
      },
      "source": [
        "Notes:\n- GITHUB_URL ko apne repo par set karein.\n- Agar requirements.txt root me nahi hai to PIP_INSTALL me sahi relative path de.\n- RUN_COMMAND ko project ke entrypoint ke mutabik badlein (e.g., `python main.py`, `python -m src.app`, `uvicorn app:app`).\n- Agar Telegram bot hai to TG_BOT_TOKEN, APP_ID, API_HASH, etc. zaroor set karein.\n- FFMPEG sirf tab install karein jab audio/video handling ho.\n- Agar run fail ho, console me ModuleNotFoundError ya path errors check karein."
      ]
    }
  ]
}
